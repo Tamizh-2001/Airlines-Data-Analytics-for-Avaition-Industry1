{
 "cells": [
  {
   "cell_type": "markdown",
   "metadata": {
    "id": "Lc4cmtyP41Ob"
   },
   "source": [
    "What is 7 to the power of 4?"
   ]
  },
  {
   "cell_type": "code",
   "execution_count": 42,
   "metadata": {
    "colab": {
     "base_uri": "https://localhost:8080/"
    },
    "executionInfo": {
     "elapsed": 968,
     "status": "ok",
     "timestamp": 1665304603938,
     "user": {
      "displayName": "Anjana Sakkaravel",
      "userId": "12562260151841983566"
     },
     "user_tz": -330
    },
    "id": "eVInr8gpbLyu",
    "outputId": "e63c301c-1a70-4727-a7b7-eed2216ec371"
   },
   "outputs": [
    {
     "name": "stdout",
     "output_type": "stream",
     "text": [
      "2401\n"
     ]
    }
   ],
   "source": [
    "print(7**4)"
   ]
  },
  {
   "cell_type": "markdown",
   "metadata": {
    "id": "ZD5-VXSy49HA"
   },
   "source": [
    "Split this string: \n",
    "s = \"Hi there Sam!\" "
   ]
  },
  {
   "cell_type": "code",
   "execution_count": 3,
   "metadata": {
    "executionInfo": {
     "elapsed": 424,
     "status": "ok",
     "timestamp": 1665303755913,
     "user": {
      "displayName": "Anjana Sakkaravel",
      "userId": "12562260151841983566"
     },
     "user_tz": -330
    },
    "id": "O51HeJEWbSf_"
   },
   "outputs": [],
   "source": [
    "s=\" Hi there Sam\""
   ]
  },
  {
   "cell_type": "code",
   "execution_count": 4,
   "metadata": {
    "colab": {
     "base_uri": "https://localhost:8080/"
    },
    "executionInfo": {
     "elapsed": 602,
     "status": "ok",
     "timestamp": 1665303761431,
     "user": {
      "displayName": "Anjana Sakkaravel",
      "userId": "12562260151841983566"
     },
     "user_tz": -330
    },
    "id": "g2YRNZlJ1rTL",
    "outputId": "ee9e2f59-cc2f-4376-a8da-f376acda2b17"
   },
   "outputs": [
    {
     "name": "stdout",
     "output_type": "stream",
     "text": [
      "['Hi', 'there', 'Sam']\n"
     ]
    }
   ],
   "source": [
    "print(s.split())"
   ]
  },
  {
   "cell_type": "markdown",
   "metadata": {
    "id": "ItiJJ5hR5Bdb"
   },
   "source": [
    "Given the variables: \n",
    "planet = \"Earth\" \n",
    "diameter = 12742 \n",
    "Use .format() to print the following string: \n",
    "The diameter of Earth is 12742 kilometers. \n"
   ]
  },
  {
   "cell_type": "code",
   "execution_count": 5,
   "metadata": {
    "executionInfo": {
     "elapsed": 10,
     "status": "ok",
     "timestamp": 1665303777987,
     "user": {
      "displayName": "Anjana Sakkaravel",
      "userId": "12562260151841983566"
     },
     "user_tz": -330
    },
    "id": "Jzfc3qse1s1k"
   },
   "outputs": [],
   "source": [
    "planet=\"Earth\"\n",
    "diameter=12742"
   ]
  },
  {
   "cell_type": "code",
   "execution_count": 7,
   "metadata": {
    "colab": {
     "base_uri": "https://localhost:8080/"
    },
    "executionInfo": {
     "elapsed": 383,
     "status": "ok",
     "timestamp": 1665303826140,
     "user": {
      "displayName": "Anjana Sakkaravel",
      "userId": "12562260151841983566"
     },
     "user_tz": -330
    },
    "id": "MCtaTEYI1w6d",
    "outputId": "fe3f7a8e-0618-4b29-aa45-cdebe04e8c8f"
   },
   "outputs": [
    {
     "name": "stdout",
     "output_type": "stream",
     "text": [
      "The diameter of Earth is 12742 km.\n"
     ]
    }
   ],
   "source": [
    "print(\"The diameter of {planet} is {diameter} km.\".format(planet=planet,diameter=diameter))"
   ]
  },
  {
   "cell_type": "markdown",
   "metadata": {
    "id": "dcVWB-AS5Gb7"
   },
   "source": [
    "Given this nested list, use indexing to grab the word \"hello\" \n"
   ]
  },
  {
   "cell_type": "code",
   "execution_count": 8,
   "metadata": {
    "executionInfo": {
     "elapsed": 425,
     "status": "ok",
     "timestamp": 1665303858332,
     "user": {
      "displayName": "Anjana Sakkaravel",
      "userId": "12562260151841983566"
     },
     "user_tz": -330
    },
    "id": "6C3Tk0bB16_D"
   },
   "outputs": [],
   "source": [
    "lst=[1,2,[3,4],[5,[100,200,['hello']],23,11],1,7]"
   ]
  },
  {
   "cell_type": "code",
   "execution_count": 9,
   "metadata": {
    "colab": {
     "base_uri": "https://localhost:8080/"
    },
    "executionInfo": {
     "elapsed": 385,
     "status": "ok",
     "timestamp": 1665303868162,
     "user": {
      "displayName": "Anjana Sakkaravel",
      "userId": "12562260151841983566"
     },
     "user_tz": -330
    },
    "id": "O88dnUBL2EiP",
    "outputId": "402bc3e8-49ba-4250-bcb5-6cd99ae10f26"
   },
   "outputs": [
    {
     "name": "stdout",
     "output_type": "stream",
     "text": [
      "['hello']\n"
     ]
    }
   ],
   "source": [
    "print(lst[3][1][2])"
   ]
  },
  {
   "cell_type": "code",
   "execution_count": 12,
   "metadata": {
    "executionInfo": {
     "elapsed": 383,
     "status": "ok",
     "timestamp": 1665303977952,
     "user": {
      "displayName": "Anjana Sakkaravel",
      "userId": "12562260151841983566"
     },
     "user_tz": -330
    },
    "id": "Csz02iUO2G8i"
   },
   "outputs": [],
   "source": [
    "d = {'k1':[1,2,3,{'tricky':['oh','man','inception',{'target':[1,2,3,'hello']}]}]}"
   ]
  },
  {
   "cell_type": "code",
   "execution_count": 13,
   "metadata": {
    "colab": {
     "base_uri": "https://localhost:8080/"
    },
    "executionInfo": {
     "elapsed": 404,
     "status": "ok",
     "timestamp": 1665303984525,
     "user": {
      "displayName": "Anjana Sakkaravel",
      "userId": "12562260151841983566"
     },
     "user_tz": -330
    },
    "id": "i1YDr8-s2U_q",
    "outputId": "29a978c8-92d8-44fb-fe14-2a72a44e2218"
   },
   "outputs": [
    {
     "name": "stdout",
     "output_type": "stream",
     "text": [
      "hello\n"
     ]
    }
   ],
   "source": [
    "print(d[\"k1\"][3][\"tricky\"][3]['target'][3])"
   ]
  },
  {
   "cell_type": "markdown",
   "metadata": {
    "id": "el7u4qHE5L8G"
   },
   "source": [
    "What is the main difference between a tuple and a list? \n"
   ]
  },
  {
   "cell_type": "code",
   "execution_count": null,
   "metadata": {
    "id": "Kt5dBVzY5LkK"
   },
   "outputs": [],
   "source": [
    "The list is mutable, whereas the tuple in immutable \n"
   ]
  },
  {
   "cell_type": "markdown",
   "metadata": {
    "id": "M1cR6ZB25QcA"
   },
   "source": [
    "Create a function that grabs the email website domain from a string in the form: user@domain.com \n",
    "So for example, passing \"user@domain.com\" would return: domain.com \n"
   ]
  },
  {
   "cell_type": "code",
   "execution_count": 14,
   "metadata": {
    "colab": {
     "base_uri": "https://localhost:8080/",
     "height": 35
    },
    "executionInfo": {
     "elapsed": 508,
     "status": "ok",
     "timestamp": 1665303999041,
     "user": {
      "displayName": "Anjana Sakkaravel",
      "userId": "12562260151841983566"
     },
     "user_tz": -330
    },
    "id": "YjMDpNRb2jV8",
    "outputId": "f275d36d-86e0-4d56-8623-3d24c1180539"
   },
   "outputs": [
    {
     "data": {
      "application/vnd.google.colaboratory.intrinsic+json": {
       "type": "string"
      },
      "text/plain": [
       "'domain.com'"
      ]
     },
     "execution_count": 14,
     "metadata": {},
     "output_type": "execute_result"
    }
   ],
   "source": [
    "def domain(email): \n",
    " return email.split('@')[-1] \n",
    "domain(\"user@domain.com\") \n"
   ]
  },
  {
   "cell_type": "markdown",
   "metadata": {
    "id": "qJDJ89P25S9v"
   },
   "source": [
    "Create a basic function that returns True if the word 'dog' is contained in the input string. Don't worry about edge cases like a punctuation being attached to the word dog, but do account for capitalization. "
   ]
  },
  {
   "cell_type": "code",
   "execution_count": 18,
   "metadata": {
    "colab": {
     "base_uri": "https://localhost:8080/"
    },
    "executionInfo": {
     "elapsed": 465,
     "status": "ok",
     "timestamp": 1665304029991,
     "user": {
      "displayName": "Anjana Sakkaravel",
      "userId": "12562260151841983566"
     },
     "user_tz": -330
    },
    "id": "F2e54Dme2m26",
    "outputId": "0743706a-063a-4f4d-a90a-13662c898057"
   },
   "outputs": [
    {
     "data": {
      "text/plain": [
       "True"
      ]
     },
     "execution_count": 18,
     "metadata": {},
     "output_type": "execute_result"
    }
   ],
   "source": [
    "def check(word): \n",
    " for i in word.split(): \n",
    "   if i == \"dog\": \n",
    "      return True \n",
    "      return False \n",
    "check(\"I love my dog\")\n"
   ]
  },
  {
   "cell_type": "markdown",
   "metadata": {
    "id": "TWd-km0m5VEQ"
   },
   "source": [
    "Create a function that counts the number of times the word \"dog\" occurs in a string. Again ignore edge cases."
   ]
  },
  {
   "cell_type": "code",
   "execution_count": 25,
   "metadata": {
    "executionInfo": {
     "elapsed": 381,
     "status": "ok",
     "timestamp": 1665304127234,
     "user": {
      "displayName": "Anjana Sakkaravel",
      "userId": "12562260151841983566"
     },
     "user_tz": -330
    },
    "id": "CbIvTUuX2oop"
   },
   "outputs": [],
   "source": [
    "def wordCount(word): \n",
    " count = 0 \n",
    " for i in word.split():\n",
    "   if i == 'dog': \n",
    "     count += 1 \n",
    "     print(\"Dog repeated \"+str(count)+\" times\") "
   ]
  },
  {
   "cell_type": "code",
   "execution_count": 26,
   "metadata": {
    "colab": {
     "base_uri": "https://localhost:8080/"
    },
    "executionInfo": {
     "elapsed": 918,
     "status": "ok",
     "timestamp": 1665304373024,
     "user": {
      "displayName": "Anjana Sakkaravel",
      "userId": "12562260151841983566"
     },
     "user_tz": -330
    },
    "id": "BTfps3Dh2wHi",
    "outputId": "c25963ff-1349-4c30-8a78-209543fedbba"
   },
   "outputs": [
    {
     "name": "stdout",
     "output_type": "stream",
     "text": [
      "Dog repeated 1 times\n",
      "Dog repeated 2 times\n",
      "Dog repeated 3 times\n"
     ]
    }
   ],
   "source": [
    "wordCount(\"dog dog dog cat lion Dog DOG\") \n"
   ]
  },
  {
   "cell_type": "markdown",
   "metadata": {
    "id": "qNb7GXLw5XWm"
   },
   "source": [
    "Problem \n",
    "You are driving a little too fast, and a police officer stops you. Write a function to return one of 3 possible results: \"No ticket\", \"Small ticket\", or \"Big Ticket\". If your speed is 60 or less, the result is \"No Ticket\". If speed is between 61 and 80 inclusive, the result is \"Small Ticket\". If speed is 81 or more, the result is \"Big Ticket\". Unless it is your birthday (encoded as a boolean value in the parameters of the function) -- on your birthday, your speed can be 5 higher in all cases. \n"
   ]
  },
  {
   "cell_type": "code",
   "execution_count": 28,
   "metadata": {
    "executionInfo": {
     "elapsed": 389,
     "status": "ok",
     "timestamp": 1665304415278,
     "user": {
      "displayName": "Anjana Sakkaravel",
      "userId": "12562260151841983566"
     },
     "user_tz": -330
    },
    "id": "IZftpN_q4CDm"
   },
   "outputs": [],
   "source": [
    "def caught_speeding(speed, is_birthday): \n",
    "  \n",
    " if is_birthday: \n",
    "   speeding = speed - 5 \n",
    " else: \n",
    "   speeding = speed \n",
    " if speeding > 80: \n",
    "   return 'Big Ticket' \n",
    " elif speeding > 60: \n",
    "   return 'Small Ticket' \n",
    " else: \n",
    "   return 'No Ticket' \n",
    "\n"
   ]
  },
  {
   "cell_type": "code",
   "execution_count": 29,
   "metadata": {
    "colab": {
     "base_uri": "https://localhost:8080/",
     "height": 35
    },
    "executionInfo": {
     "elapsed": 595,
     "status": "ok",
     "timestamp": 1665304422366,
     "user": {
      "displayName": "Anjana Sakkaravel",
      "userId": "12562260151841983566"
     },
     "user_tz": -330
    },
    "id": "rKKhx0ut4F2r",
    "outputId": "32b0722e-6311-4c1d-8565-c81030ac3750"
   },
   "outputs": [
    {
     "data": {
      "application/vnd.google.colaboratory.intrinsic+json": {
       "type": "string"
      },
      "text/plain": [
       "'Big Ticket'"
      ]
     },
     "execution_count": 29,
     "metadata": {},
     "output_type": "execute_result"
    }
   ],
   "source": [
    "caught_speeding(87,False) \n"
   ]
  },
  {
   "cell_type": "code",
   "execution_count": 30,
   "metadata": {
    "colab": {
     "base_uri": "https://localhost:8080/",
     "height": 35
    },
    "executionInfo": {
     "elapsed": 408,
     "status": "ok",
     "timestamp": 1665304429120,
     "user": {
      "displayName": "Anjana Sakkaravel",
      "userId": "12562260151841983566"
     },
     "user_tz": -330
    },
    "id": "hnanzo0L4OL_",
    "outputId": "ec4a5b1a-4635-42e5-f723-a0e3d06bb858"
   },
   "outputs": [
    {
     "data": {
      "application/vnd.google.colaboratory.intrinsic+json": {
       "type": "string"
      },
      "text/plain": [
       "'Small Ticket'"
      ]
     },
     "execution_count": 30,
     "metadata": {},
     "output_type": "execute_result"
    }
   ],
   "source": [
    "caught_speeding(65,False) \n"
   ]
  },
  {
   "cell_type": "markdown",
   "metadata": {
    "id": "cMxQlsol5hKd"
   },
   "source": [
    "Create an employee list with basic salary values(at least 5 values for 5 employees) and using a for loop retreive each employee salary and calculate total salary expenditure. \n"
   ]
  },
  {
   "cell_type": "code",
   "execution_count": 35,
   "metadata": {
    "executionInfo": {
     "elapsed": 574,
     "status": "ok",
     "timestamp": 1665304513154,
     "user": {
      "displayName": "Anjana Sakkaravel",
      "userId": "12562260151841983566"
     },
     "user_tz": -330
    },
    "id": "VVl8_i5j4PvR"
   },
   "outputs": [],
   "source": [
    "e = [[\"emp1\",[1325,4975,8660,6037,8308]],\n",
    "     [\"emp2\",[5678,5847,3375,3415,6640]],\n",
    "     [\"emp3\",[1806,5144,8340,1253,6667]],\n",
    "     [\"emp4\",[8381,7678,8599,3629,9345]],\n",
    "     [\"emp5\",[7066,1307,3023,6295,2046]]]"
   ]
  },
  {
   "cell_type": "code",
   "execution_count": 37,
   "metadata": {
    "colab": {
     "base_uri": "https://localhost:8080/"
    },
    "executionInfo": {
     "elapsed": 581,
     "status": "ok",
     "timestamp": 1665304528934,
     "user": {
      "displayName": "Anjana Sakkaravel",
      "userId": "12562260151841983566"
     },
     "user_tz": -330
    },
    "id": "xjkWLaUm4SEN",
    "outputId": "f5b0b64b-bdbd-4f07-868b-fe1e56bd3fdd"
   },
   "outputs": [
    {
     "name": "stdout",
     "output_type": "stream",
     "text": [
      "emp1 earns 1325\n",
      "emp1 earns 6300\n",
      "emp1 earns 14960\n",
      "emp1 earns 20997\n",
      "emp1 earns 29305\n",
      "emp2 earns 34983\n",
      "emp2 earns 40830\n",
      "emp2 earns 44205\n",
      "emp2 earns 47620\n",
      "emp2 earns 54260\n",
      "emp3 earns 56066\n",
      "emp3 earns 61210\n",
      "emp3 earns 69550\n",
      "emp3 earns 70803\n",
      "emp3 earns 77470\n",
      "emp4 earns 85851\n",
      "emp4 earns 93529\n",
      "emp4 earns 102128\n",
      "emp4 earns 105757\n",
      "emp4 earns 115102\n",
      "emp5 earns 122168\n",
      "emp5 earns 123475\n",
      "emp5 earns 126498\n",
      "emp5 earns 132793\n",
      "emp5 earns 134839\n"
     ]
    }
   ],
   "source": [
    "total = 0 \n",
    "for i in range(len(e)): \n",
    "  for j in e[i][1]: \n",
    "    total += j \n",
    "    print(str(e[i][0])+\" earns \"+str(total)) \n"
   ]
  },
  {
   "cell_type": "code",
   "execution_count": 39,
   "metadata": {
    "colab": {
     "base_uri": "https://localhost:8080/"
    },
    "executionInfo": {
     "elapsed": 692,
     "status": "ok",
     "timestamp": 1665304547621,
     "user": {
      "displayName": "Anjana Sakkaravel",
      "userId": "12562260151841983566"
     },
     "user_tz": -330
    },
    "id": "92Li2CpX4mTE",
    "outputId": "5e8671c6-a6af-4f41-ea53-d38760c8559f"
   },
   "outputs": [
    {
     "name": "stdout",
     "output_type": "stream",
     "text": [
      "[['emp1', [1325, 4975, 8660, 6037, 8308]], ['emp2', [5678, 5847, 3375, 3415, 6640]], ['emp3', [1806, 5144, 8340, 1253, 6667]], ['emp4', [8381, 7678, 8599, 3629, 9345]], ['emp5', [7066, 1307, 3023, 6295, 2046]]]\n"
     ]
    }
   ],
   "source": [
    "print(e)"
   ]
  },
  {
   "cell_type": "markdown",
   "metadata": {
    "id": "NY8TitJY5lp4"
   },
   "source": [
    "Create two dictionaries in Python: \n",
    "First one to contain fields as Empid, Empname, Basicpay \n",
    "Second dictionary to contain fields as DeptName, DeptId. \n",
    "Combine both dictionaries. \n"
   ]
  },
  {
   "cell_type": "code",
   "execution_count": 41,
   "metadata": {
    "colab": {
     "base_uri": "https://localhost:8080/"
    },
    "executionInfo": {
     "elapsed": 491,
     "status": "ok",
     "timestamp": 1665304570393,
     "user": {
      "displayName": "Anjana Sakkaravel",
      "userId": "12562260151841983566"
     },
     "user_tz": -330
    },
    "id": "dtW60QEb4qiZ",
    "outputId": "695f4a68-2c7a-4b5c-9b5b-b5b67192a735"
   },
   "outputs": [
    {
     "name": "stdout",
     "output_type": "stream",
     "text": [
      "{'Empid': 123, 'Empname': 'dan', 'Basicpay': 7500, 'DeptName': 'CSE', 'Deptid': 4500}\n"
     ]
    }
   ],
   "source": [
    "dic1 = {\"Empid\": 123, \"Empname\": \"dan\", \"Basicpay\": 7500} \n",
    "dic2 = {\"DeptName\": \"CSE\", \"Deptid\": 4500} \n",
    "dic3 = {**dic1, **dic2} \n",
    "print(dic3) \n"
   ]
  }
 ],
 "metadata": {
  "colab": {
   "authorship_tag": "ABX9TyMY2L8eC2YeE5guoQgmOlz1",
   "collapsed_sections": [],
   "provenance": [
    {
     "file_id": "1cwGnQXHVjbpkzl4jKEI8GPoFK3S50_Io",
     "timestamp": 1665304949911
    }
   ]
  },
  "kernelspec": {
   "display_name": "Python 3 (ipykernel)",
   "language": "python",
   "name": "python3"
  },
  "language_info": {
   "codemirror_mode": {
    "name": "ipython",
    "version": 3
   },
   "file_extension": ".py",
   "mimetype": "text/x-python",
   "name": "python",
   "nbconvert_exporter": "python",
   "pygments_lexer": "ipython3",
   "version": "3.8.8"
  }
 },
 "nbformat": 4,
 "nbformat_minor": 1
}
